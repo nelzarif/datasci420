{
 "cells": [
  {
   "cell_type": "markdown",
   "metadata": {},
   "source": [
    "# Assignment 3 - Superstore Transactions\n",
    "## Nourhan El Zarif"
   ]
  },
  {
   "cell_type": "markdown",
   "metadata": {},
   "source": [
    "## Read Dataset"
   ]
  },
  {
   "cell_type": "markdown",
   "metadata": {},
   "source": [
    "The transaction data set will be imported into a pandas dataframe."
   ]
  },
  {
   "cell_type": "code",
   "execution_count": 1,
   "metadata": {},
   "outputs": [],
   "source": [
    "import pandas as pd\n",
    "import numpy as np"
   ]
  },
  {
   "cell_type": "code",
   "execution_count": 2,
   "metadata": {},
   "outputs": [],
   "source": [
    "file = 'https://library.startlearninglabs.uw.edu/DATASCI420/2019/Datasets/SuperstoreTransaction.csv'"
   ]
  },
  {
   "cell_type": "code",
   "execution_count": 3,
   "metadata": {},
   "outputs": [],
   "source": [
    "transaction = pd.read_csv(file)"
   ]
  },
  {
   "cell_type": "markdown",
   "metadata": {},
   "source": [
    "## Customer RFM"
   ]
  },
  {
   "cell_type": "markdown",
   "metadata": {},
   "source": [
    "To perform RFM, we will cast the Order Date attribute as a date time object."
   ]
  },
  {
   "cell_type": "code",
   "execution_count": 4,
   "metadata": {},
   "outputs": [],
   "source": [
    "import datetime\n",
    "transaction['Order Date'] = pd.to_datetime(transaction['Order Date'], format = '%m/%d/%Y')"
   ]
  },
  {
   "cell_type": "code",
   "execution_count": 5,
   "metadata": {},
   "outputs": [
    {
     "data": {
      "text/html": [
       "<div>\n",
       "<style scoped>\n",
       "    .dataframe tbody tr th:only-of-type {\n",
       "        vertical-align: middle;\n",
       "    }\n",
       "\n",
       "    .dataframe tbody tr th {\n",
       "        vertical-align: top;\n",
       "    }\n",
       "\n",
       "    .dataframe thead th {\n",
       "        text-align: right;\n",
       "    }\n",
       "</style>\n",
       "<table border=\"1\" class=\"dataframe\">\n",
       "  <thead>\n",
       "    <tr style=\"text-align: right;\">\n",
       "      <th></th>\n",
       "      <th>Row ID</th>\n",
       "      <th>Order ID</th>\n",
       "      <th>Order Date</th>\n",
       "      <th>Ship Date</th>\n",
       "      <th>Ship Mode</th>\n",
       "      <th>Customer ID</th>\n",
       "      <th>Customer Name</th>\n",
       "      <th>Segment</th>\n",
       "      <th>Country</th>\n",
       "      <th>City</th>\n",
       "      <th>...</th>\n",
       "      <th>Postal Code</th>\n",
       "      <th>Region</th>\n",
       "      <th>Product ID</th>\n",
       "      <th>Category</th>\n",
       "      <th>Sub-Category</th>\n",
       "      <th>Product Name</th>\n",
       "      <th>Sales</th>\n",
       "      <th>Quantity</th>\n",
       "      <th>Discount</th>\n",
       "      <th>Profit</th>\n",
       "    </tr>\n",
       "  </thead>\n",
       "  <tbody>\n",
       "    <tr>\n",
       "      <th>0</th>\n",
       "      <td>1</td>\n",
       "      <td>CA-2016-152156</td>\n",
       "      <td>2016-11-08</td>\n",
       "      <td>11/11/2016</td>\n",
       "      <td>Second Class</td>\n",
       "      <td>CG-12520</td>\n",
       "      <td>Claire Gute</td>\n",
       "      <td>Consumer</td>\n",
       "      <td>United States</td>\n",
       "      <td>Henderson</td>\n",
       "      <td>...</td>\n",
       "      <td>42420</td>\n",
       "      <td>South</td>\n",
       "      <td>FUR-BO-10001798</td>\n",
       "      <td>Furniture</td>\n",
       "      <td>Bookcases</td>\n",
       "      <td>Bush Somerset Collection Bookcase</td>\n",
       "      <td>261.9600</td>\n",
       "      <td>2</td>\n",
       "      <td>0.00</td>\n",
       "      <td>41.9136</td>\n",
       "    </tr>\n",
       "    <tr>\n",
       "      <th>1</th>\n",
       "      <td>2</td>\n",
       "      <td>CA-2016-152156</td>\n",
       "      <td>2016-11-08</td>\n",
       "      <td>11/11/2016</td>\n",
       "      <td>Second Class</td>\n",
       "      <td>CG-12520</td>\n",
       "      <td>Claire Gute</td>\n",
       "      <td>Consumer</td>\n",
       "      <td>United States</td>\n",
       "      <td>Henderson</td>\n",
       "      <td>...</td>\n",
       "      <td>42420</td>\n",
       "      <td>South</td>\n",
       "      <td>FUR-CH-10000454</td>\n",
       "      <td>Furniture</td>\n",
       "      <td>Chairs</td>\n",
       "      <td>Hon Deluxe Fabric Upholstered Stacking Chairs,...</td>\n",
       "      <td>731.9400</td>\n",
       "      <td>3</td>\n",
       "      <td>0.00</td>\n",
       "      <td>219.5820</td>\n",
       "    </tr>\n",
       "    <tr>\n",
       "      <th>2</th>\n",
       "      <td>3</td>\n",
       "      <td>CA-2016-138688</td>\n",
       "      <td>2016-06-12</td>\n",
       "      <td>6/16/2016</td>\n",
       "      <td>Second Class</td>\n",
       "      <td>DV-13045</td>\n",
       "      <td>Darrin Van Huff</td>\n",
       "      <td>Corporate</td>\n",
       "      <td>United States</td>\n",
       "      <td>Los Angeles</td>\n",
       "      <td>...</td>\n",
       "      <td>90036</td>\n",
       "      <td>West</td>\n",
       "      <td>OFF-LA-10000240</td>\n",
       "      <td>Office Supplies</td>\n",
       "      <td>Labels</td>\n",
       "      <td>Self-Adhesive Address Labels for Typewriters b...</td>\n",
       "      <td>14.6200</td>\n",
       "      <td>2</td>\n",
       "      <td>0.00</td>\n",
       "      <td>6.8714</td>\n",
       "    </tr>\n",
       "    <tr>\n",
       "      <th>3</th>\n",
       "      <td>4</td>\n",
       "      <td>US-2015-108966</td>\n",
       "      <td>2015-10-11</td>\n",
       "      <td>10/18/2015</td>\n",
       "      <td>Standard Class</td>\n",
       "      <td>SO-20335</td>\n",
       "      <td>Sean O'Donnell</td>\n",
       "      <td>Consumer</td>\n",
       "      <td>United States</td>\n",
       "      <td>Fort Lauderdale</td>\n",
       "      <td>...</td>\n",
       "      <td>33311</td>\n",
       "      <td>South</td>\n",
       "      <td>FUR-TA-10000577</td>\n",
       "      <td>Furniture</td>\n",
       "      <td>Tables</td>\n",
       "      <td>Bretford CR4500 Series Slim Rectangular Table</td>\n",
       "      <td>957.5775</td>\n",
       "      <td>5</td>\n",
       "      <td>0.45</td>\n",
       "      <td>-383.0310</td>\n",
       "    </tr>\n",
       "    <tr>\n",
       "      <th>4</th>\n",
       "      <td>5</td>\n",
       "      <td>US-2015-108966</td>\n",
       "      <td>2015-10-11</td>\n",
       "      <td>10/18/2015</td>\n",
       "      <td>Standard Class</td>\n",
       "      <td>SO-20335</td>\n",
       "      <td>Sean O'Donnell</td>\n",
       "      <td>Consumer</td>\n",
       "      <td>United States</td>\n",
       "      <td>Fort Lauderdale</td>\n",
       "      <td>...</td>\n",
       "      <td>33311</td>\n",
       "      <td>South</td>\n",
       "      <td>OFF-ST-10000760</td>\n",
       "      <td>Office Supplies</td>\n",
       "      <td>Storage</td>\n",
       "      <td>Eldon Fold 'N Roll Cart System</td>\n",
       "      <td>22.3680</td>\n",
       "      <td>2</td>\n",
       "      <td>0.20</td>\n",
       "      <td>2.5164</td>\n",
       "    </tr>\n",
       "  </tbody>\n",
       "</table>\n",
       "<p>5 rows × 21 columns</p>\n",
       "</div>"
      ],
      "text/plain": [
       "   Row ID        Order ID Order Date   Ship Date       Ship Mode Customer ID  \\\n",
       "0       1  CA-2016-152156 2016-11-08  11/11/2016    Second Class    CG-12520   \n",
       "1       2  CA-2016-152156 2016-11-08  11/11/2016    Second Class    CG-12520   \n",
       "2       3  CA-2016-138688 2016-06-12   6/16/2016    Second Class    DV-13045   \n",
       "3       4  US-2015-108966 2015-10-11  10/18/2015  Standard Class    SO-20335   \n",
       "4       5  US-2015-108966 2015-10-11  10/18/2015  Standard Class    SO-20335   \n",
       "\n",
       "     Customer Name    Segment        Country             City  ...  \\\n",
       "0      Claire Gute   Consumer  United States        Henderson  ...   \n",
       "1      Claire Gute   Consumer  United States        Henderson  ...   \n",
       "2  Darrin Van Huff  Corporate  United States      Los Angeles  ...   \n",
       "3   Sean O'Donnell   Consumer  United States  Fort Lauderdale  ...   \n",
       "4   Sean O'Donnell   Consumer  United States  Fort Lauderdale  ...   \n",
       "\n",
       "  Postal Code  Region       Product ID         Category Sub-Category  \\\n",
       "0       42420   South  FUR-BO-10001798        Furniture    Bookcases   \n",
       "1       42420   South  FUR-CH-10000454        Furniture       Chairs   \n",
       "2       90036    West  OFF-LA-10000240  Office Supplies       Labels   \n",
       "3       33311   South  FUR-TA-10000577        Furniture       Tables   \n",
       "4       33311   South  OFF-ST-10000760  Office Supplies      Storage   \n",
       "\n",
       "                                        Product Name     Sales  Quantity  \\\n",
       "0                  Bush Somerset Collection Bookcase  261.9600         2   \n",
       "1  Hon Deluxe Fabric Upholstered Stacking Chairs,...  731.9400         3   \n",
       "2  Self-Adhesive Address Labels for Typewriters b...   14.6200         2   \n",
       "3      Bretford CR4500 Series Slim Rectangular Table  957.5775         5   \n",
       "4                     Eldon Fold 'N Roll Cart System   22.3680         2   \n",
       "\n",
       "   Discount    Profit  \n",
       "0      0.00   41.9136  \n",
       "1      0.00  219.5820  \n",
       "2      0.00    6.8714  \n",
       "3      0.45 -383.0310  \n",
       "4      0.20    2.5164  \n",
       "\n",
       "[5 rows x 21 columns]"
      ]
     },
     "execution_count": 5,
     "metadata": {},
     "output_type": "execute_result"
    }
   ],
   "source": [
    "transaction.head()"
   ]
  },
  {
   "cell_type": "code",
   "execution_count": 6,
   "metadata": {},
   "outputs": [
    {
     "name": "stdout",
     "output_type": "stream",
     "text": [
      "Minimal Date = 2014-01-03, Maximal Date = 2017-12-30\n"
     ]
    }
   ],
   "source": [
    "print('Minimal Date = %s, Maximal Date = %s'%(min(transaction['Order Date']).strftime('%Y-%m-%d'), max(transaction['Order Date']).strftime('%Y-%m-%d')))"
   ]
  },
  {
   "cell_type": "markdown",
   "metadata": {},
   "source": [
    "We can see that this dataset spans the duration of about 3 years. We will perform RFM on customers who have been active within the last ninety days. The frequency will be interactions per month. "
   ]
  },
  {
   "cell_type": "code",
   "execution_count": 7,
   "metadata": {},
   "outputs": [],
   "source": [
    "import datetime as dt\n",
    "Start_Date_Obj = dt.datetime.strptime('2017-01-01','%Y-%m-%d')\n",
    "End_Date_Obj = dt.datetime.strptime('2017-12-30', '%Y-%m-%d')\n",
    "Time_Window = 90 #days\n",
    "FM_Window = 30 #days for frequency and monetary\n",
    "\n",
    "\n",
    "check_point_date = Start_Date_Obj\n",
    "\n"
   ]
  },
  {
   "cell_type": "markdown",
   "metadata": {},
   "source": [
    "The RFM will be performed every 90 days for checkpoints starting on 1-1-2017. "
   ]
  },
  {
   "cell_type": "code",
   "execution_count": 8,
   "metadata": {},
   "outputs": [
    {
     "name": "stdout",
     "output_type": "stream",
     "text": [
      "There are 340 unique users\n",
      "     CustID Checkpoint  Recency  Frequency   Value  Quantity\n",
      "0  CM-12445 2017-01-01       73          0    0.00         0\n",
      "1  BG-11035 2017-01-01       45          0    0.00         0\n",
      "2  FO-14305 2017-01-01        3          2   41.99         3\n",
      "3  LT-17110 2017-01-01       43          0    0.00         0\n",
      "4  DN-13690 2017-01-01       10          2  884.68        10\n",
      "\n",
      "\n",
      "There are 218 unique users\n",
      "     CustID Checkpoint  Recency  Frequency     Value  Quantity\n",
      "0  MC-17575 2017-04-01       57          0     0.000         0\n",
      "1  SP-20920 2017-04-01       16          5   315.041        15\n",
      "2  EJ-13720 2017-04-01       29          2  1219.792        11\n",
      "3  BE-11410 2017-04-01       70          0     0.000         0\n",
      "4  ML-17395 2017-04-01       51          0     0.000         0\n",
      "\n",
      "\n",
      "There are 283 unique users\n",
      "     CustID Checkpoint  Recency  Frequency    Value  Quantity\n",
      "0  LS-17200 2017-06-30       13          3   23.888        10\n",
      "1  HZ-14950 2017-06-30       32          0    0.000         0\n",
      "2  FO-14305 2017-06-30       11          5  362.068        14\n",
      "3  KH-16360 2017-06-30       88          0    0.000         0\n",
      "4  ZC-21910 2017-06-30       11          4  153.456        14\n",
      "\n",
      "\n",
      "There are 339 unique users\n",
      "     CustID Checkpoint  Recency  Frequency     Value  Quantity\n",
      "0  BG-11035 2017-09-28       28          1   659.900         2\n",
      "1  GM-14695 2017-09-28       24          1  1322.352         3\n",
      "2  LT-17110 2017-09-28       14          1    70.950         3\n",
      "3  DB-12910 2017-09-28       17          1   184.660         7\n",
      "4  TM-21490 2017-09-28       37          0     0.000         0\n",
      "\n",
      "\n",
      "There are 437 unique users\n",
      "     CustID Checkpoint  Recency  Frequency    Value  Quantity\n",
      "0  BG-11035 2017-12-27       25          1   32.776         1\n",
      "1  FO-14305 2017-12-27       35          0    0.000         0\n",
      "2  ZC-21910 2017-12-27       51          0    0.000         0\n",
      "3  LT-17110 2017-12-27       31          0    0.000         0\n",
      "4  DB-12910 2017-12-27       18          2  193.917         8\n",
      "\n",
      "\n"
     ]
    }
   ],
   "source": [
    "from collections import OrderedDict\n",
    "\n",
    "while check_point_date <= End_Date_Obj:\n",
    "    CustID = []\n",
    "    Checkpoint = []\n",
    "    Recency = []\n",
    "    Frequency = []\n",
    "    Monetary_Value = []\n",
    "    Monetary_Quantity = []\n",
    "    \n",
    "    window_start = check_point_date - dt.timedelta(days = Time_Window)\n",
    "    mask = (transaction['Order Date'] >= window_start) & (transaction['Order Date'] < check_point_date)\n",
    "    tran_checkpoint = transaction.loc[mask]\n",
    "    \n",
    "    unique_users = list(set(tran_checkpoint['Customer ID']))\n",
    "    print('There are %d unique users'%(len(unique_users)))\n",
    "    FM_Window_Start = check_point_date - dt.timedelta(days = FM_Window)\n",
    "    \n",
    "    for user in unique_users:\n",
    "        CustID.append(user)\n",
    "        Checkpoint.append(check_point_date)\n",
    "        \n",
    "        mask = tran_checkpoint['Customer ID'] == user\n",
    "        tran_checkpoint_user = tran_checkpoint.loc[mask]\n",
    "        delta = check_point_date - max(tran_checkpoint_user['Order Date'])\n",
    "        recency = delta.days\n",
    "        Recency.append(recency)\n",
    "        \n",
    "        mask = tran_checkpoint_user['Order Date']>= FM_Window_Start\n",
    "        tran_checkpoint_user_fm = tran_checkpoint_user[mask]\n",
    "        frequency = tran_checkpoint_user_fm.shape[0]\n",
    "        Frequency.append(frequency)\n",
    "        \n",
    "        value = np.sum(tran_checkpoint_user_fm.loc[:, 'Sales'])\n",
    "        Monetary_Value.append(value)\n",
    "        \n",
    "        quantity = np.sum(tran_checkpoint_user_fm.loc[:, 'Quantity'])\n",
    "        Monetary_Quantity.append(quantity)\n",
    "        \n",
    "    RFM_Dict = OrderedDict([('CustID', CustID),\n",
    "                            ('Checkpoint', Checkpoint),\n",
    "                            ('Recency', Recency),\n",
    "                            ('Frequency', Frequency),\n",
    "                            ('Value', Monetary_Value),\n",
    "                            ('Quantity', Monetary_Quantity)])\n",
    "        \n",
    "    RFM_Frame = pd.DataFrame.from_dict(RFM_Dict)\n",
    "    print(RFM_Frame.head())\n",
    "    print()\n",
    "    print()\n",
    "        \n",
    "    check_point_date = check_point_date + dt.timedelta(days = 90)\n",
    "    "
   ]
  },
  {
   "cell_type": "markdown",
   "metadata": {},
   "source": [
    "We can see that Fall and Winter have higher active user counts than earlier that year. The most recent RFM frame will be used for customer segmentation."
   ]
  },
  {
   "cell_type": "code",
   "execution_count": 9,
   "metadata": {},
   "outputs": [
    {
     "data": {
      "text/html": [
       "<div>\n",
       "<style scoped>\n",
       "    .dataframe tbody tr th:only-of-type {\n",
       "        vertical-align: middle;\n",
       "    }\n",
       "\n",
       "    .dataframe tbody tr th {\n",
       "        vertical-align: top;\n",
       "    }\n",
       "\n",
       "    .dataframe thead th {\n",
       "        text-align: right;\n",
       "    }\n",
       "</style>\n",
       "<table border=\"1\" class=\"dataframe\">\n",
       "  <thead>\n",
       "    <tr style=\"text-align: right;\">\n",
       "      <th></th>\n",
       "      <th>CustID</th>\n",
       "      <th>Checkpoint</th>\n",
       "      <th>Recency</th>\n",
       "      <th>Frequency</th>\n",
       "      <th>Value</th>\n",
       "      <th>Quantity</th>\n",
       "    </tr>\n",
       "  </thead>\n",
       "  <tbody>\n",
       "    <tr>\n",
       "      <th>0</th>\n",
       "      <td>BG-11035</td>\n",
       "      <td>2017-12-27</td>\n",
       "      <td>25</td>\n",
       "      <td>1</td>\n",
       "      <td>32.776</td>\n",
       "      <td>1</td>\n",
       "    </tr>\n",
       "    <tr>\n",
       "      <th>1</th>\n",
       "      <td>FO-14305</td>\n",
       "      <td>2017-12-27</td>\n",
       "      <td>35</td>\n",
       "      <td>0</td>\n",
       "      <td>0.000</td>\n",
       "      <td>0</td>\n",
       "    </tr>\n",
       "    <tr>\n",
       "      <th>2</th>\n",
       "      <td>ZC-21910</td>\n",
       "      <td>2017-12-27</td>\n",
       "      <td>51</td>\n",
       "      <td>0</td>\n",
       "      <td>0.000</td>\n",
       "      <td>0</td>\n",
       "    </tr>\n",
       "    <tr>\n",
       "      <th>3</th>\n",
       "      <td>LT-17110</td>\n",
       "      <td>2017-12-27</td>\n",
       "      <td>31</td>\n",
       "      <td>0</td>\n",
       "      <td>0.000</td>\n",
       "      <td>0</td>\n",
       "    </tr>\n",
       "    <tr>\n",
       "      <th>4</th>\n",
       "      <td>DB-12910</td>\n",
       "      <td>2017-12-27</td>\n",
       "      <td>18</td>\n",
       "      <td>2</td>\n",
       "      <td>193.917</td>\n",
       "      <td>8</td>\n",
       "    </tr>\n",
       "  </tbody>\n",
       "</table>\n",
       "</div>"
      ],
      "text/plain": [
       "     CustID Checkpoint  Recency  Frequency    Value  Quantity\n",
       "0  BG-11035 2017-12-27       25          1   32.776         1\n",
       "1  FO-14305 2017-12-27       35          0    0.000         0\n",
       "2  ZC-21910 2017-12-27       51          0    0.000         0\n",
       "3  LT-17110 2017-12-27       31          0    0.000         0\n",
       "4  DB-12910 2017-12-27       18          2  193.917         8"
      ]
     },
     "execution_count": 9,
     "metadata": {},
     "output_type": "execute_result"
    }
   ],
   "source": [
    "RFM_Frame.head()"
   ]
  },
  {
   "cell_type": "markdown",
   "metadata": {},
   "source": [
    "## Customer Segmentation with K-Means"
   ]
  },
  {
   "cell_type": "markdown",
   "metadata": {},
   "source": [
    "Customers that have been active within the last 90 days will be segmented into 3 groups by frequency and spending using K-Means. To do so, both attriutes will be normalized. "
   ]
  },
  {
   "cell_type": "code",
   "execution_count": 10,
   "metadata": {},
   "outputs": [],
   "source": [
    "dataset = pd.DataFrame()\n",
    "dataset.loc[:, 0] = RFM_Frame.loc[:,'Frequency']\n",
    "dataset.loc[:, 1] = RFM_Frame.loc[:, 'Value']\n",
    "\n",
    "def normalizeColumn(col):\n",
    "    #this function was made to be generic and accept any column\n",
    "    #this function will z-normalize the input column\n",
    "    normCol = (col - np.mean(col))/np.std(col)\n",
    "    #this returns a list of the z-normalized input\n",
    "    return normCol\n",
    "\n",
    "dataset.loc[:,0] = normalizeColumn(dataset.loc[:,0])\n",
    "dataset.loc[:,1] = normalizeColumn(dataset.loc[:,1])"
   ]
  },
  {
   "cell_type": "markdown",
   "metadata": {},
   "source": [
    "Initial guesses will be made. "
   ]
  },
  {
   "cell_type": "code",
   "execution_count": 11,
   "metadata": {},
   "outputs": [],
   "source": [
    "guess = pd.DataFrame()\n",
    "guess.loc[:,0] = [0, 1, 2]\n",
    "guess.loc[:,1] = [0, 1, 4]"
   ]
  },
  {
   "cell_type": "code",
   "execution_count": 12,
   "metadata": {},
   "outputs": [],
   "source": [
    "from sklearn.cluster import KMeans\n",
    "FM = KMeans(n_clusters=3, init=guess, n_init=1).fit(dataset)\n",
    "labels = FM.labels_\n",
    "centers = pd.DataFrame(FM.cluster_centers_)"
   ]
  },
  {
   "cell_type": "code",
   "execution_count": 13,
   "metadata": {},
   "outputs": [],
   "source": [
    "import matplotlib.pyplot as plt\n",
    "def Plot2DKMeans(Points, Labels, ClusterCentroids, Title):\n",
    "    plt.figure(figsize=(8,6))\n",
    "    for LabelNumber in range(max(Labels)+1):\n",
    "        LabelFlag = Labels == LabelNumber\n",
    "        color =  ['c', 'm', 'y', 'b', 'g', 'r', 'c', 'm', 'y', 'b', 'g', 'r', 'c', 'm', 'y'][LabelNumber]\n",
    "        marker = ['s', 'o', 'v', '^', '<', '>', '8', 'p', '*', 'h', 'H', 'D', 'd', 'P', 'X'][LabelNumber]\n",
    "        plt.scatter(Points.loc[LabelFlag,0], Points.loc[LabelFlag,1],\n",
    "                    s= 100, c=color, edgecolors=\"black\", alpha=0.3, marker=marker)\n",
    "        plt.scatter(ClusterCentroids.loc[LabelNumber,0], ClusterCentroids.loc[LabelNumber,1], s=200, c=\"black\", marker=marker)\n",
    "    plt.title(Title)\n",
    "    plt.xlabel('Normalized Frequency')\n",
    "    plt.ylabel('Normalized Monetary Value')\n",
    "    plt.show()"
   ]
  },
  {
   "cell_type": "code",
   "execution_count": 14,
   "metadata": {},
   "outputs": [
    {
     "data": {
      "image/png": "[encoded data removed]",
      "text/plain": [
       "<Figure size 576x432 with 1 Axes>"
      ]
     },
     "metadata": {
      "needs_background": "light"
     },
     "output_type": "display_data"
    }
   ],
   "source": [
    "Plot2DKMeans(dataset, labels, centers, \"K-Means for Frequency/Monetary Value\")"
   ]
  },
  {
   "cell_type": "markdown",
   "metadata": {},
   "source": [
    "## Results"
   ]
  },
  {
   "cell_type": "markdown",
   "metadata": {},
   "source": [
    "The plot for Frequency vs Monetary Value shows a clear trend between interaction with the system, and a customer's spending habits. As a customer's frequency of interaction increases, the moneary value increases in an exponential trend. As a result, the three customer segments are as follows:\n",
    "    1. Customers that interact less frequently that average, spend less than average.\n",
    "    2. Customers that interact 1 std more frequently than average, spend 1 std more than average.\n",
    "    3. Customers that interact 2 std more frequently than average, spend 4 std more than average. "
   ]
  },
  {
   "cell_type": "code",
   "execution_count": null,
   "metadata": {},
   "outputs": [],
   "source": []
  }
 ],
 "metadata": {
  "kernelspec": {
   "display_name": "Python 3",
   "language": "python",
   "name": "python3"
  },
  "language_info": {
   "codemirror_mode": {
    "name": "ipython",
    "version": 3
   },
   "file_extension": ".py",
   "mimetype": "text/x-python",
   "name": "python",
   "nbconvert_exporter": "python",
   "pygments_lexer": "ipython3",
   "version": "3.7.3"
  }
 },
 "nbformat": 4,
 "nbformat_minor": 2
}
